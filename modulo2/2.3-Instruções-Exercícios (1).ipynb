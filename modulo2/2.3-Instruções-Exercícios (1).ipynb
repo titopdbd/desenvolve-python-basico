{
  "metadata": {
    "kernelspec": {
      "name": "python",
      "display_name": "Python (Pyodide)",
      "language": "python"
    },
    "language_info": {
      "codemirror_mode": {
        "name": "python",
        "version": 3
      },
      "file_extension": ".py",
      "mimetype": "text/x-python",
      "name": "python",
      "nbconvert_exporter": "python",
      "pygments_lexer": "ipython3",
      "version": "3.8"
    },
    "colab": {
      "provenance": []
    }
  },
  "nbformat_minor": 4,
  "nbformat": 4,
  "cells": [
    {
      "cell_type": "markdown",
      "source": "# Módulo 2\n\n## 2.3 Instruções e Expressões\n\n### Q1\n\nFaça um programa que armazene o valor de 20 reais de salário por hora de um trabalhador, e o número de 40 horas trabalhadas na semana. Com essas informações, calcule e imprima:\n- Salário semanal bruto\n- Valor descontado por semana INSS (10% do bruto)\n- Valor descontado por semana pelo sindicato (5% do bruto)\n- Salário semanal líquido (Bruto - Descontos)",
      "metadata": {
        "id": "1pCTdOHonv5f"
      }
    },
    {
      "cell_type": "code",
      "source": "## Escreva e execute seu código aquisalario_hora = 20\nhoras_semanais = 40\n\nsalario_bruto = salario_hora * horas_semanais\ndesconto_inss = salario_bruto * 0.10\ndesconto_sindicato = salario_bruto * 0.05\nsalario_liquido = salario_bruto - desconto_inss - desconto_sindicato\n\nprint(\"Salário bruto semanal:\", salario_bruto)\nprint(\"Desconto INSS:\", desconto_inss)\nprint(\"Desconto sindicato:\", desconto_sindicato)\nprint(\"Salário líquido semanal:\", salario_liquido)",
      "metadata": {
        "id": "hVbX0I97nj6M"
      },
      "outputs": [],
      "execution_count": null
    },
    {
      "cell_type": "markdown",
      "source": "### Q2\n\nAltere o programa anterior para a partir dos valores de horas trabalhadas por semana e salário por hora, calcular **em somente duas instruções**:\n- Salário semanal bruto\n- Salário semanal líquido com todos os descontos. Para a segunda instrução, realize todos os cálculos aritméticos em uma expressão composta.\n",
      "metadata": {
        "id": "pIxKX9J2oGZ1"
      }
    },
    {
      "cell_type": "code",
      "source": "## Escreva e execute ssalario_bruto = 20 * 40\nsalario_liquido = salario_bruto - (salario_bruto * 0.10 + salario_bruto * 0.05)\n\nprint(\"Bruto:\", salario_bruto, \"| Líquido:\", salario_liquido)\neu código aqui",
      "metadata": {
        "id": "pAHw9Xf9oGoi"
      },
      "outputs": [],
      "execution_count": null
    },
    {
      "cell_type": "markdown",
      "source": "### Q3\n\nVocê está desenvolvendo um software de conversão de moeda e precisa calcular o valor equivalente em yuan chinês a partir de uma quantia em real. A taxa de câmbio é de 0.69 BRL (real) para 1 CNY (yuan). Escreva um programa que define em uma variável uma quantia em reais (BRL) e calcula o valor equivalente em yuan (CNY). Imprima o resultado.",
      "metadata": {
        "id": "m8tlHRuWpBOB"
      }
    },
    {
      "cell_type": "code",
      "source": "## Escreva e executreais = 100  # você pode mudar esse valor\ncny = reais / 0.69\n\nprint(reais, \"reais equivalem a\", round(cny, 2), \"yuans\")\ne seu código aqui",
      "metadata": {
        "id": "2bPw7uF6oeL9"
      },
      "outputs": [],
      "execution_count": null
    },
    {
      "cell_type": "markdown",
      "source": "### Q4\n\nVocê é um treinador de corrida e deseja calcular a velocidade média que um atleta precisa manter para completar a Maratona Internacional de São Silvestre, que tem uma distância total de 42.195 km. A fórmula para calcular a velocidade média ($v\\_media$) é dada por $v\\_media = \\frac{distancia}{tempo}$ . Escreva um programa em Python para calcular a velocidade média necessária para completar a maratona em 3 horas.\n\n**Calcule e imprima o resultado em metros/segundo**, ou seja, converta a distância de quilômetros para metros ($metro = \\frac{km}{1000}$) e a velocidade de horas para segundos $(segundo = \\frac{hora}{3600})$.",
      "metadata": {
        "id": "-Na3ltDCp74A"
      }
    },
    {
      "cell_type": "code",
      "source": "## Escreva e execute seu códigodistancia_metros = 42195  # 42.195 km em metros\ntempo_segundos = 3 * 3600  # 3 horas em segundos\n\nvelocidade_media = distancia_metros / tempo_segundos\n\nprint(\"Velocidade média necessária:\", round(velocidade_media, 2), \"m/s\")\n aqui",
      "metadata": {
        "id": "Bn6l8kcSrE4L"
      },
      "outputs": [],
      "execution_count": null
    }
  ]
}